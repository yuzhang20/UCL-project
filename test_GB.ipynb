{
 "cells": [
  {
   "cell_type": "code",
   "execution_count": 1,
   "id": "ba80e0de-e612-41b8-9038-2f85527bf5bf",
   "metadata": {},
   "outputs": [
    {
     "name": "stdout",
     "output_type": "stream",
     "text": [
      "Hello ZhangYu\n"
     ]
    }
   ],
   "source": [
    "print('Hello ZhangYu')"
   ]
  },
  {
   "cell_type": "code",
   "execution_count": null,
   "id": "c3cf7d42-96cf-48a9-a176-1839ab416524",
   "metadata": {},
   "outputs": [],
   "source": []
  }
 ],
 "metadata": {
  "kernelspec": {
   "display_name": "Python 3 (ipykernel)",
   "language": "python",
   "name": "python3"
  },
  "language_info": {
   "codemirror_mode": {
    "name": "ipython",
    "version": 3
   },
   "file_extension": ".py",
   "mimetype": "text/x-python",
   "name": "python",
   "nbconvert_exporter": "python",
   "pygments_lexer": "ipython3",
   "version": "3.8.13"
  }
 },
 "nbformat": 4,
 "nbformat_minor": 5
}
